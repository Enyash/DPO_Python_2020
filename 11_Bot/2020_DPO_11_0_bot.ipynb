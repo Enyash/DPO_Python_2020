{
 "cells": [
  {
   "cell_type": "markdown",
   "metadata": {},
   "source": [
    "# Python для анализа данных\n",
    "\n",
    "## Бот в Telegram\n",
    "\n",
    "### Сбор статистики по Коронавирусу\n",
    "\n",
    "*Ян Пиле, Яндекс.Маркет*"
   ]
  },
  {
   "cell_type": "markdown",
   "metadata": {},
   "source": [
    "### Есть сайт с информацией о распространении вируса в мире\n",
    "Я предлагаю достать оттуда информацию в виде Pandas dataframe а затем по запросу пользователя в телеграм выгружать ее"
   ]
  },
  {
   "cell_type": "markdown",
   "metadata": {},
   "source": [
    "Импортируем requests и запишем адрес сайта со статистикой по COVID в переменную"
   ]
  },
  {
   "cell_type": "code",
   "execution_count": 2,
   "metadata": {},
   "outputs": [],
   "source": [
    "import requests\n",
    "url1 = 'https://www.worldometers.info/coronavirus/'"
   ]
  },
  {
   "cell_type": "markdown",
   "metadata": {},
   "source": [
    "После чего через get-запрос достанем текст страницы со статистикой и распарсим ее с помощью BeautifulSoup"
   ]
  },
  {
   "cell_type": "code",
   "execution_count": 3,
   "metadata": {},
   "outputs": [],
   "source": [
    "website_url = requests.get(url1).text\n",
    "from bs4 import BeautifulSoup\n",
    "soup = BeautifulSoup(website_url, 'lxml')\n",
    "# soup"
   ]
  },
  {
   "cell_type": "markdown",
   "metadata": {},
   "source": [
    "На странице две таблицы: одна отвечает за информацию на сегодняшний день (под номером 0), а вторая - за информацию на вчерашний день. Достанем обе таблицы (они лежат между тегами \\<\\table\\>\\)"
   ]
  },
  {
   "cell_type": "code",
   "execution_count": 22,
   "metadata": {},
   "outputs": [],
   "source": [
    "table = soup.find_all('table')[0]\n",
    "# table"
   ]
  },
  {
   "cell_type": "markdown",
   "metadata": {},
   "source": [
    "Разобьем таблицу на строки (они лежат между тегами tr)"
   ]
  },
  {
   "cell_type": "code",
   "execution_count": 21,
   "metadata": {},
   "outputs": [],
   "source": [
    "rows = table.find_all('tr')\n",
    "# rows"
   ]
  },
  {
   "cell_type": "markdown",
   "metadata": {},
   "source": [
    "Сначала достанем заголовки (между тегами th). Для примера достанем заголовок первой (нулевой) колонки."
   ]
  },
  {
   "cell_type": "code",
   "execution_count": 7,
   "metadata": {},
   "outputs": [
    {
     "data": {
      "text/plain": [
       "u'Country,Other'"
      ]
     },
     "execution_count": 7,
     "metadata": {},
     "output_type": "execute_result"
    }
   ],
   "source": [
    "rows[0].find_all('th')[0].get_text().strip()"
   ]
  },
  {
   "cell_type": "markdown",
   "metadata": {},
   "source": [
    "Теперь мы можем достать содержимое ячеек таблицы (между тегами td). Для примера достанем первую запись второго по счету(и первого по номеру) столбца"
   ]
  },
  {
   "cell_type": "code",
   "execution_count": 8,
   "metadata": {},
   "outputs": [
    {
     "data": {
      "text/plain": [
       "u'908,231'"
      ]
     },
     "execution_count": 8,
     "metadata": {},
     "output_type": "execute_result"
    }
   ],
   "source": [
    "rows[1].find_all('td')[1].get_text().strip()"
   ]
  },
  {
   "cell_type": "markdown",
   "metadata": {},
   "source": [
    "Протестируем сборку на примере одной колонки, а потом пробежимся по их списку в цикле"
   ]
  },
  {
   "cell_type": "code",
   "execution_count": 9,
   "metadata": {},
   "outputs": [
    {
     "name": "stdout",
     "output_type": "stream",
     "text": [
      "[u'Country,Other', u'North America', u'Europe', u'Asia', u'South America', u'Oceania', u'Africa', u'', u'World', u'USA', u'Spain', u'Italy', u'France', u'Germany', u'UK', u'Turkey', u'Iran', u'Russia', u'Brazil', u'Belgium', u'Canada', u'Netherlands', u'Switzerland', u'Portugal', u'India', u'Peru', u'Ireland', u'Sweden', u'Austria', u'Israel', u'Saudi Arabia', u'Japan', u'Chile', u'Ecuador', u'S. Korea', u'Poland', u'Singapore', u'Pakistan', u'Romania', u'Mexico', u'UAE', u'Denmark', u'Indonesia', u'Belarus', u'Norway', u'Qatar', u'Serbia', u'Czechia', u'Philippines', u'Australia', u'Ukraine', u'Malaysia', u'Dominican Republic', u'Panama', u'Colombia', u'Finland', u'Bangladesh', u'Egypt', u'Luxembourg', u'South Africa', u'Morocco', u'Argentina', u'Algeria', u'Thailand', u'Moldova', u'Greece', u'Kuwait', u'Hungary', u'Kazakhstan', u'Bahrain', u'Croatia', u'Iceland', u'Uzbekistan', u'Iraq', u'Oman', u'Estonia', u'Azerbaijan', u'Armenia', u'New Zealand', u'Lithuania', u'Bosnia and Herzegovina', u'Slovenia', u'North Macedonia', u'Slovakia', u'Cuba', u'Afghanistan', u'Cameroon', u'Ghana', u'Hong Kong', u'Bulgaria', u'Djibouti', u'Ivory Coast', u'Tunisia', u'Cyprus', u'Nigeria', u'Latvia', u'Guinea', u'Andorra', u'Diamond Princess', u'Lebanon', u'Costa Rica', u'Niger', u'Albania', u'Kyrgyzstan', u'Burkina Faso', u'Bolivia', u'Uruguay', u'Honduras', u'Channel Islands', u'San Marino', u'Palestine', u'Malta', u'Senegal', u'Jordan', u'Taiwan', u'Georgia', u'R\\xe9union', u'DRC', u'Sri Lanka', u'Mauritius', u'Mayotte', u'Guatemala', u'Montenegro', u'Isle of Man', u'Kenya', u'Mali', u'Venezuela', u'Somalia', u'Tanzania', u'Vietnam', u'El Salvador', u'Jamaica', u'Paraguay', u'Faeroe Islands', u'Congo', u'Martinique', u'Gabon', u'Rwanda', u'Guadeloupe', u'Sudan', u'Brunei', u'Gibraltar', u'Myanmar', u'Cambodia', u'Madagascar', u'Ethiopia', u'Trinidad and Tobago', u'Liberia', u'Aruba', u'Bermuda', u'French Guiana', u'Monaco', u'Togo', u'Maldives', u'Equatorial Guinea', u'Liechtenstein', u'Barbados', u'Zambia', u'Cabo Verde', u'Sint Maarten', u'Guyana', u'Cayman Islands', u'Bahamas', u'Sierra Leone', u'Uganda', u'Libya', u'Haiti', u'French Polynesia', u'Benin', u'Guinea-Bissau', u'Macao', u'Nepal', u'Syria', u'Mozambique', u'Eritrea', u'Saint Martin', u'Mongolia', u'Chad', u'Eswatini', u'Zimbabwe', u'Angola', u'Antigua and Barbuda', u'Malawi', u'Timor-Leste', u'Botswana', u'Laos', u'Belize', u'Fiji', u'New Caledonia', u'Dominica', u'Namibia', u'Saint Kitts and Nevis', u'Saint Lucia', u'Cura\\xe7ao', u'CAR', u'Grenada', u'St. Vincent Grenadines', u'Burundi', u'Turks and Caicos', u'Falkland Islands', u'Greenland', u'Montserrat', u'Seychelles', u'Nicaragua', u'Gambia', u'Suriname', u'MS Zaandam', u'Vatican City', u'Papua New Guinea', u'Mauritania', u'Bhutan', u'St. Barth', u'Western Sahara', u'British Virgin Islands', u'Caribbean Netherlands', u'Sao Tome and Principe', u'South Sudan', u'Anguilla', u'Saint Pierre Miquelon', u'Yemen', u'China', u'Total:', u'Total:', u'Total:', u'Total:', u'Total:', u'Total:', u'Total:', u'Total:']\n"
     ]
    }
   ],
   "source": [
    "col1 = []\n",
    "\n",
    "col1.append(rows[0].find_all('th')[0].get_text().strip()) # отдельно добавляем заголовок\n",
    "\n",
    "for row in rows[1:]: # начинаем со второго ряда таблицы, потому что 0 уже обработали выше\n",
    "    r = row.find_all('td') # находим все теги td для строки таблицы\n",
    "    col1.append(r[0].get_text().strip()) # сохраняем данные в наш список\n",
    "\n",
    "print(col1)"
   ]
  },
  {
   "cell_type": "markdown",
   "metadata": {},
   "source": [
    "Чтобы еще раз проверить, запустим для другой колонки - TotalCases"
   ]
  },
  {
   "cell_type": "code",
   "execution_count": 10,
   "metadata": {},
   "outputs": [
    {
     "name": "stdout",
     "output_type": "stream",
     "text": [
      "[u'TotalCases', u'908,231', u'1,167,590', u'420,949', u'96,284', u'8,201', u'26,493', u'721', u'2,628,469', u'844,440', u'208,389', u'187,327', u'159,877', u'150,062', u'133,495', u'98,674', u'85,996', u'57,999', u'45,757', u'41,889', u'39,813', u'34,842', u'28,268', u'21,982', u'20,471', u'19,250', u'16,671', u'16,004', u'14,925', u'14,498', u'12,772', u'11,512', u'11,296', u'10,850', u'10,694', u'10,169', u'10,141', u'10,076', u'9,710', u'9,501', u'8,238', u'7,912', u'7,418', u'7,281', u'7,275', u'7,141', u'7,114', u'7,087', u'6,710', u'6,649', u'6,592', u'5,532', u'5,300', u'4,821', u'4,149', u'4,129', u'3,772', u'3,659', u'3,654', u'3,635', u'3,446', u'3,144', u'2,910', u'2,826', u'2,778', u'2,408', u'2,248', u'2,168', u'2,135', u'2,027', u'1,950', u'1,785', u'1,716', u'1,631', u'1,614', u'1,559', u'1,518', u'1,473', u'1,451', u'1,370', u'1,368', u'1,353', u'1,259', u'1,244', u'1,189', u'1,176', u'1,163', u'1,154', u'1,034', u'1,024', u'974', u'916', u'909', u'790', u'782', u'761', u'761', u'723', u'712', u'682', u'681', u'662', u'634', u'612', u'609', u'609', u'543', u'510', u'498', u'488', u'474', u'444', u'442', u'435', u'426', u'416', u'410', u'359', u'330', u'329', u'326', u'316', u'315', u'307', u'303', u'293', u'288', u'286', u'284', u'268', u'237', u'233', u'213', u'185', u'165', u'164', u'156', u'153', u'148', u'140', u'138', u'132', u'123', u'122', u'121', u'116', u'115', u'101', u'100', u'98', u'97', u'94', u'88', u'86', u'84', u'81', u'75', u'74', u'73', u'71', u'67', u'66', u'65', u'61', u'61', u'59', u'58', u'57', u'54', u'50', u'45', u'45', u'42', u'41', u'39', u'38', u'35', u'33', u'31', u'28', u'25', u'24', u'23', u'23', u'22', u'19', u'18', u'18', u'18', u'16', u'16', u'15', u'15', u'14', u'14', u'14', u'13', u'11', u'11', u'11', u'11', u'11', u'11', u'10', u'10', u'10', u'9', u'9', u'8', u'7', u'6', u'6', u'6', u'5', u'5', u'4', u'4', u'3', u'1', u'1', u'82,788', u'908,231', u'1,167,590', u'420,949', u'96,284', u'8,201', u'26,493', u'721', u'2,628,469']\n"
     ]
    }
   ],
   "source": [
    "col2 = []\n",
    "\n",
    "col2.append(rows[0].find_all('th')[1].get_text().strip()) # отдельно добавляем заголовок\n",
    "\n",
    "for row in rows[1:]: # начинаем со второго ряда таблицы, потому что 0 уже обработали выше\n",
    "    r = row.find_all('td') # находим все теги td для строки таблицы\n",
    "    col2.append(r[1].get_text().strip()) # сохраняем данные в наш список\n",
    "\n",
    "print(col2)"
   ]
  },
  {
   "cell_type": "markdown",
   "metadata": {},
   "source": [
    "А теперь пройдемся циклом по всем 12 колонкам, сгружая данные в список списков"
   ]
  },
  {
   "cell_type": "code",
   "execution_count": 11,
   "metadata": {},
   "outputs": [],
   "source": [
    "field_list = []\n",
    "for i in range(12):\n",
    "    col = []\n",
    "    col.append(rows[0].find_all('th')[i].get_text().strip()) # отдельно добавляем заголовок\n",
    "    for row in rows[1:]: # начинаем со второго ряда таблицы, потому что 0 уже обработали выше\n",
    "        r = row.find_all('td') # находим все теги td для строки таблицы\n",
    "        col.append(r[i].get_text().strip()) # сохраняем данные в наш список\n",
    "    field_list.append(col)"
   ]
  },
  {
   "cell_type": "markdown",
   "metadata": {},
   "source": [
    "А вот заголовок второго столбца"
   ]
  },
  {
   "cell_type": "code",
   "execution_count": 12,
   "metadata": {},
   "outputs": [
    {
     "data": {
      "text/plain": [
       "u'TotalCases'"
      ]
     },
     "execution_count": 12,
     "metadata": {},
     "output_type": "execute_result"
    }
   ],
   "source": [
    "field_list[1][0]"
   ]
  },
  {
   "cell_type": "markdown",
   "metadata": {},
   "source": [
    "Остается превратить эту структуру в DataFrsme. Для этого сначала превратим ее в словарь из списков, где ключами будут названия колонок."
   ]
  },
  {
   "cell_type": "code",
   "execution_count": 26,
   "metadata": {},
   "outputs": [],
   "source": [
    "d = dict()\n",
    "for i in range(12):\n",
    "    d[field_list[i][0]] = field_list[i][1:]\n",
    "# d"
   ]
  },
  {
   "cell_type": "markdown",
   "metadata": {},
   "source": [
    "А теперь сгружаем этот словарь в функцию pd.DataFrame и он превращается в искомый DataFrame"
   ]
  },
  {
   "cell_type": "code",
   "execution_count": 27,
   "metadata": {},
   "outputs": [
    {
     "data": {
      "text/html": [
       "<div>\n",
       "<style scoped>\n",
       "    .dataframe tbody tr th:only-of-type {\n",
       "        vertical-align: middle;\n",
       "    }\n",
       "\n",
       "    .dataframe tbody tr th {\n",
       "        vertical-align: top;\n",
       "    }\n",
       "\n",
       "    .dataframe thead th {\n",
       "        text-align: right;\n",
       "    }\n",
       "</style>\n",
       "<table border=\"1\" class=\"dataframe\">\n",
       "  <thead>\n",
       "    <tr style=\"text-align: right;\">\n",
       "      <th></th>\n",
       "      <th>ActiveCases</th>\n",
       "      <th>Country,Other</th>\n",
       "      <th>Deaths/1M pop</th>\n",
       "      <th>NewCases</th>\n",
       "      <th>NewDeaths</th>\n",
       "      <th>Serious,Critical</th>\n",
       "      <th>Tests/\n",
       "1M pop</th>\n",
       "      <th>TotalCases</th>\n",
       "      <th>TotalDeaths</th>\n",
       "      <th>TotalRecovered</th>\n",
       "      <th>TotalTests</th>\n",
       "      <th>Tot Cases/1M pop</th>\n",
       "    </tr>\n",
       "  </thead>\n",
       "  <tbody>\n",
       "    <tr>\n",
       "      <th>0</th>\n",
       "      <td>755,606</td>\n",
       "      <td>North America</td>\n",
       "      <td></td>\n",
       "      <td>+28,364</td>\n",
       "      <td>+2,211</td>\n",
       "      <td>15,269</td>\n",
       "      <td></td>\n",
       "      <td>908,231</td>\n",
       "      <td>50,647</td>\n",
       "      <td>101,978</td>\n",
       "      <td></td>\n",
       "      <td></td>\n",
       "    </tr>\n",
       "    <tr>\n",
       "      <th>1</th>\n",
       "      <td>695,663</td>\n",
       "      <td>Europe</td>\n",
       "      <td></td>\n",
       "      <td>+27,539</td>\n",
       "      <td>+3,231</td>\n",
       "      <td>25,509</td>\n",
       "      <td></td>\n",
       "      <td>1,167,590</td>\n",
       "      <td>111,137</td>\n",
       "      <td>360,790</td>\n",
       "      <td></td>\n",
       "      <td></td>\n",
       "    </tr>\n",
       "    <tr>\n",
       "      <th>2</th>\n",
       "      <td>206,948</td>\n",
       "      <td>Asia</td>\n",
       "      <td></td>\n",
       "      <td>+10,689</td>\n",
       "      <td>+298</td>\n",
       "      <td>6,169</td>\n",
       "      <td></td>\n",
       "      <td>420,949</td>\n",
       "      <td>15,807</td>\n",
       "      <td>198,194</td>\n",
       "      <td></td>\n",
       "      <td></td>\n",
       "    </tr>\n",
       "    <tr>\n",
       "      <th>3</th>\n",
       "      <td>51,397</td>\n",
       "      <td>South America</td>\n",
       "      <td></td>\n",
       "      <td>+5,024</td>\n",
       "      <td>+246</td>\n",
       "      <td>9,499</td>\n",
       "      <td></td>\n",
       "      <td>96,284</td>\n",
       "      <td>4,558</td>\n",
       "      <td>40,329</td>\n",
       "      <td></td>\n",
       "      <td></td>\n",
       "    </tr>\n",
       "    <tr>\n",
       "      <th>4</th>\n",
       "      <td>2,097</td>\n",
       "      <td>Oceania</td>\n",
       "      <td></td>\n",
       "      <td>+11</td>\n",
       "      <td>+4</td>\n",
       "      <td>51</td>\n",
       "      <td></td>\n",
       "      <td>8,201</td>\n",
       "      <td>88</td>\n",
       "      <td>6,016</td>\n",
       "      <td></td>\n",
       "      <td></td>\n",
       "    </tr>\n",
       "    <tr>\n",
       "      <th>5</th>\n",
       "      <td>18,020</td>\n",
       "      <td>Africa</td>\n",
       "      <td></td>\n",
       "      <td>+1,082</td>\n",
       "      <td>+42</td>\n",
       "      <td>174</td>\n",
       "      <td></td>\n",
       "      <td>26,493</td>\n",
       "      <td>1,239</td>\n",
       "      <td>7,234</td>\n",
       "      <td></td>\n",
       "      <td></td>\n",
       "    </tr>\n",
       "    <tr>\n",
       "      <th>6</th>\n",
       "      <td>62</td>\n",
       "      <td></td>\n",
       "      <td></td>\n",
       "      <td></td>\n",
       "      <td></td>\n",
       "      <td>7</td>\n",
       "      <td></td>\n",
       "      <td>721</td>\n",
       "      <td>15</td>\n",
       "      <td>644</td>\n",
       "      <td></td>\n",
       "      <td></td>\n",
       "    </tr>\n",
       "    <tr>\n",
       "      <th>7</th>\n",
       "      <td>1,729,793</td>\n",
       "      <td>World</td>\n",
       "      <td>23.5</td>\n",
       "      <td>+72,709</td>\n",
       "      <td>+6,032</td>\n",
       "      <td>56,678</td>\n",
       "      <td></td>\n",
       "      <td>2,628,469</td>\n",
       "      <td>183,491</td>\n",
       "      <td>715,185</td>\n",
       "      <td></td>\n",
       "      <td>337</td>\n",
       "    </tr>\n",
       "    <tr>\n",
       "      <th>8</th>\n",
       "      <td>713,454</td>\n",
       "      <td>USA</td>\n",
       "      <td>143</td>\n",
       "      <td>+25,696</td>\n",
       "      <td>+1,909</td>\n",
       "      <td>14,014</td>\n",
       "      <td>13,009</td>\n",
       "      <td>844,440</td>\n",
       "      <td>47,227</td>\n",
       "      <td>83,759</td>\n",
       "      <td>4,305,949</td>\n",
       "      <td>2,551</td>\n",
       "    </tr>\n",
       "    <tr>\n",
       "      <th>9</th>\n",
       "      <td>100,757</td>\n",
       "      <td>Spain</td>\n",
       "      <td>464</td>\n",
       "      <td>+4,211</td>\n",
       "      <td>+435</td>\n",
       "      <td>7,705</td>\n",
       "      <td>19,896</td>\n",
       "      <td>208,389</td>\n",
       "      <td>21,717</td>\n",
       "      <td>85,915</td>\n",
       "      <td>930,230</td>\n",
       "      <td>4,457</td>\n",
       "    </tr>\n",
       "  </tbody>\n",
       "</table>\n",
       "</div>"
      ],
      "text/plain": [
       "  ActiveCases  Country,Other Deaths/1M pop NewCases NewDeaths  \\\n",
       "0     755,606  North America                +28,364    +2,211   \n",
       "1     695,663         Europe                +27,539    +3,231   \n",
       "2     206,948           Asia                +10,689      +298   \n",
       "3      51,397  South America                 +5,024      +246   \n",
       "4       2,097        Oceania                    +11        +4   \n",
       "5      18,020         Africa                 +1,082       +42   \n",
       "6          62                                                   \n",
       "7   1,729,793          World          23.5  +72,709    +6,032   \n",
       "8     713,454            USA           143  +25,696    +1,909   \n",
       "9     100,757          Spain           464   +4,211      +435   \n",
       "\n",
       "  Serious,Critical Tests/\\n1M pop TotalCases TotalDeaths TotalRecovered  \\\n",
       "0           15,269                   908,231      50,647        101,978   \n",
       "1           25,509                 1,167,590     111,137        360,790   \n",
       "2            6,169                   420,949      15,807        198,194   \n",
       "3            9,499                    96,284       4,558         40,329   \n",
       "4               51                     8,201          88          6,016   \n",
       "5              174                    26,493       1,239          7,234   \n",
       "6                7                       721          15            644   \n",
       "7           56,678                 2,628,469     183,491        715,185   \n",
       "8           14,014         13,009    844,440      47,227         83,759   \n",
       "9            7,705         19,896    208,389      21,717         85,915   \n",
       "\n",
       "  TotalTests Tot Cases/1M pop  \n",
       "0                              \n",
       "1                              \n",
       "2                              \n",
       "3                              \n",
       "4                              \n",
       "5                              \n",
       "6                              \n",
       "7                         337  \n",
       "8  4,305,949            2,551  \n",
       "9    930,230            4,457  "
      ]
     },
     "execution_count": 27,
     "metadata": {},
     "output_type": "execute_result"
    }
   ],
   "source": [
    "import pandas as pd \n",
    "df = pd.DataFrame(d)\n",
    "df.head(10)"
   ]
  },
  {
   "cell_type": "code",
   "execution_count": 17,
   "metadata": {},
   "outputs": [
    {
     "data": {
      "text/html": [
       "<div>\n",
       "<style scoped>\n",
       "    .dataframe tbody tr th:only-of-type {\n",
       "        vertical-align: middle;\n",
       "    }\n",
       "\n",
       "    .dataframe tbody tr th {\n",
       "        vertical-align: top;\n",
       "    }\n",
       "\n",
       "    .dataframe thead th {\n",
       "        text-align: right;\n",
       "    }\n",
       "</style>\n",
       "<table border=\"1\" class=\"dataframe\">\n",
       "  <thead>\n",
       "    <tr style=\"text-align: right;\">\n",
       "      <th></th>\n",
       "      <th>ActiveCases</th>\n",
       "      <th>Country,Other</th>\n",
       "      <th>Deaths/1M pop</th>\n",
       "      <th>NewCases</th>\n",
       "      <th>NewDeaths</th>\n",
       "      <th>Serious,Critical</th>\n",
       "      <th>Tests/\n",
       "1M pop</th>\n",
       "      <th>TotalCases</th>\n",
       "      <th>TotalDeaths</th>\n",
       "      <th>TotalRecovered</th>\n",
       "      <th>TotalTests</th>\n",
       "      <th>Tot Cases/1M pop</th>\n",
       "    </tr>\n",
       "  </thead>\n",
       "  <tbody>\n",
       "    <tr>\n",
       "      <th>0</th>\n",
       "      <td>755,606</td>\n",
       "      <td>North America</td>\n",
       "      <td></td>\n",
       "      <td>+28,364</td>\n",
       "      <td>+2,211</td>\n",
       "      <td>15,269</td>\n",
       "      <td></td>\n",
       "      <td>908,231</td>\n",
       "      <td>50,647</td>\n",
       "      <td>101,978</td>\n",
       "      <td></td>\n",
       "      <td></td>\n",
       "    </tr>\n",
       "    <tr>\n",
       "      <th>1</th>\n",
       "      <td>695,663</td>\n",
       "      <td>Europe</td>\n",
       "      <td></td>\n",
       "      <td>+27,539</td>\n",
       "      <td>+3,231</td>\n",
       "      <td>25,509</td>\n",
       "      <td></td>\n",
       "      <td>1,167,590</td>\n",
       "      <td>111,137</td>\n",
       "      <td>360,790</td>\n",
       "      <td></td>\n",
       "      <td></td>\n",
       "    </tr>\n",
       "    <tr>\n",
       "      <th>2</th>\n",
       "      <td>206,948</td>\n",
       "      <td>Asia</td>\n",
       "      <td></td>\n",
       "      <td>+10,689</td>\n",
       "      <td>+298</td>\n",
       "      <td>6,169</td>\n",
       "      <td></td>\n",
       "      <td>420,949</td>\n",
       "      <td>15,807</td>\n",
       "      <td>198,194</td>\n",
       "      <td></td>\n",
       "      <td></td>\n",
       "    </tr>\n",
       "    <tr>\n",
       "      <th>3</th>\n",
       "      <td>51,397</td>\n",
       "      <td>South America</td>\n",
       "      <td></td>\n",
       "      <td>+5,024</td>\n",
       "      <td>+246</td>\n",
       "      <td>9,499</td>\n",
       "      <td></td>\n",
       "      <td>96,284</td>\n",
       "      <td>4,558</td>\n",
       "      <td>40,329</td>\n",
       "      <td></td>\n",
       "      <td></td>\n",
       "    </tr>\n",
       "    <tr>\n",
       "      <th>4</th>\n",
       "      <td>2,097</td>\n",
       "      <td>Oceania</td>\n",
       "      <td></td>\n",
       "      <td>+11</td>\n",
       "      <td>+4</td>\n",
       "      <td>51</td>\n",
       "      <td></td>\n",
       "      <td>8,201</td>\n",
       "      <td>88</td>\n",
       "      <td>6,016</td>\n",
       "      <td></td>\n",
       "      <td></td>\n",
       "    </tr>\n",
       "    <tr>\n",
       "      <th>5</th>\n",
       "      <td>18,020</td>\n",
       "      <td>Africa</td>\n",
       "      <td></td>\n",
       "      <td>+1,082</td>\n",
       "      <td>+42</td>\n",
       "      <td>174</td>\n",
       "      <td></td>\n",
       "      <td>26,493</td>\n",
       "      <td>1,239</td>\n",
       "      <td>7,234</td>\n",
       "      <td></td>\n",
       "      <td></td>\n",
       "    </tr>\n",
       "    <tr>\n",
       "      <th>6</th>\n",
       "      <td>62</td>\n",
       "      <td></td>\n",
       "      <td></td>\n",
       "      <td></td>\n",
       "      <td></td>\n",
       "      <td>7</td>\n",
       "      <td></td>\n",
       "      <td>721</td>\n",
       "      <td>15</td>\n",
       "      <td>644</td>\n",
       "      <td></td>\n",
       "      <td></td>\n",
       "    </tr>\n",
       "    <tr>\n",
       "      <th>7</th>\n",
       "      <td>1,729,793</td>\n",
       "      <td>World</td>\n",
       "      <td>23.5</td>\n",
       "      <td>+72,709</td>\n",
       "      <td>+6,032</td>\n",
       "      <td>56,678</td>\n",
       "      <td></td>\n",
       "      <td>2,628,469</td>\n",
       "      <td>183,491</td>\n",
       "      <td>715,185</td>\n",
       "      <td></td>\n",
       "      <td>337</td>\n",
       "    </tr>\n",
       "  </tbody>\n",
       "</table>\n",
       "</div>"
      ],
      "text/plain": [
       "  ActiveCases  Country,Other Deaths/1M pop NewCases NewDeaths  \\\n",
       "0     755,606  North America                +28,364    +2,211   \n",
       "1     695,663         Europe                +27,539    +3,231   \n",
       "2     206,948           Asia                +10,689      +298   \n",
       "3      51,397  South America                 +5,024      +246   \n",
       "4       2,097        Oceania                    +11        +4   \n",
       "5      18,020         Africa                 +1,082       +42   \n",
       "6          62                                                   \n",
       "7   1,729,793          World          23.5  +72,709    +6,032   \n",
       "\n",
       "  Serious,Critical Tests/\\n1M pop TotalCases TotalDeaths TotalRecovered  \\\n",
       "0           15,269                   908,231      50,647        101,978   \n",
       "1           25,509                 1,167,590     111,137        360,790   \n",
       "2            6,169                   420,949      15,807        198,194   \n",
       "3            9,499                    96,284       4,558         40,329   \n",
       "4               51                     8,201          88          6,016   \n",
       "5              174                    26,493       1,239          7,234   \n",
       "6                7                       721          15            644   \n",
       "7           56,678                 2,628,469     183,491        715,185   \n",
       "\n",
       "  TotalTests Tot Cases/1M pop  \n",
       "0                              \n",
       "1                              \n",
       "2                              \n",
       "3                              \n",
       "4                              \n",
       "5                              \n",
       "6                              \n",
       "7                         337  "
      ]
     },
     "execution_count": 17,
     "metadata": {},
     "output_type": "execute_result"
    }
   ],
   "source": [
    "df.head(8)"
   ]
  },
  {
   "cell_type": "markdown",
   "metadata": {},
   "source": [
    "Для удобства переименуем колонки с составными названиями."
   ]
  },
  {
   "cell_type": "code",
   "execution_count": 131,
   "metadata": {},
   "outputs": [],
   "source": [
    "df = df.rename(columns={'Country,Other': 'Country', 'Serious,Critical': 'SeriousCritical'})"
   ]
  },
  {
   "cell_type": "markdown",
   "metadata": {},
   "source": [
    "А теперь сгрузим весь процесс, который мы проделали, в одну функцию. Ее аргумент tag = 0 - информация за сегодняшний день, a tag=1 - информация за вчерашний день."
   ]
  },
  {
   "cell_type": "code",
   "execution_count": 4,
   "metadata": {},
   "outputs": [],
   "source": [
    "def stat(tag=0):\n",
    "    url = 'https://www.worldometers.info/coronavirus/'\n",
    "    website_url = requests.get(url).text\n",
    "    soup = BeautifulSoup(website_url, 'lxml')\n",
    "    table = soup.find_all('table')[tag]\n",
    "    rows = table.find_all('tr')\n",
    "    field_list = []\n",
    "    for i in range(12):\n",
    "        col = []\n",
    "        col.append(rows[0].find_all('th')[i].get_text().strip())  # отдельно добавляем заголовок\n",
    "        for row in rows[1:]:  # начинаем со второго ряда таблицы, потому что 0 уже обработали выше\n",
    "            r = row.find_all('td')  # находим все теги td для строки таблицы\n",
    "            col.append(r[i].get_text().strip())  # сохраняем данные в наш список\n",
    "        field_list.append(col)\n",
    "    d = dict()\n",
    "    for i in range(12):\n",
    "        d[field_list[i][0]] = field_list[i][1:]\n",
    "\n",
    "    df = pd.DataFrame(d)\n",
    "    df = df.rename(columns={'Country,Other': 'Country', 'Serious,Critical': 'SeriousCritical'})\n",
    "    return df"
   ]
  },
  {
   "cell_type": "markdown",
   "metadata": {},
   "source": [
    "В первых 8 строках таблицы в колонке Country лежат регионы + Мир. Одна строка пустая. Уберем ее с помощью спискового включения."
   ]
  },
  {
   "cell_type": "code",
   "execution_count": 170,
   "metadata": {},
   "outputs": [
    {
     "name": "stdout",
     "output_type": "stream",
     "text": [
      "North America\n",
      " Europe\n",
      " Asia\n",
      " South America\n",
      " Oceania\n",
      " Africa\n",
      " World\n",
      "\n"
     ]
    }
   ],
   "source": [
    "print(*list(i+'\\n' for i in list(stat()['Country'][:8]) if i!=''))"
   ]
  },
  {
   "cell_type": "markdown",
   "metadata": {},
   "source": [
    "А с 8 по 220 строки лежат названия стран. Выведем ее с помощью спискового включения по 6 стран в линию (для этого вставим символ переноса строки)"
   ]
  },
  {
   "cell_type": "code",
   "execution_count": 173,
   "metadata": {},
   "outputs": [
    {
     "name": "stdout",
     "output_type": "stream",
     "text": [
      "USA, Spain, Italy, France, Germany, UK,\n",
      " Iran, Turkey, Belgium, Netherlands, Canada, Switzerland,\n",
      " Brazil, Russia, Portugal, Austria, Israel, Ireland,\n",
      " Sweden, India, S. Korea, Peru, Chile, Japan,\n",
      " Ecuador, Poland, Romania, Norway, Denmark, Australia,\n",
      " Czechia, Pakistan, Saudi Arabia, Philippines, Mexico, Malaysia,\n",
      " UAE, Indonesia, Serbia, Panama, Qatar, Ukraine,\n",
      " Luxembourg, Dominican Republic, Belarus, Singapore, Finland, Colombia,\n",
      " Thailand, South Africa, Egypt, Argentina, Greece, Algeria,\n",
      " Moldova, Morocco, Iceland, Croatia, Bahrain, Hungary,\n",
      " Iraq, Estonia, New Zealand, Kuwait, Kazakhstan, Slovenia,\n",
      " Azerbaijan, Uzbekistan, Bosnia and Herzegovina, Lithuania, Armenia, Hong Kong,\n",
      " Bangladesh, North Macedonia, Cameroon, Slovakia, Oman, Cuba,\n",
      " Tunisia, Afghanistan, Bulgaria, Diamond Princess, Cyprus, Latvia,\n",
      " Andorra, Lebanon, Ghana, Ivory Coast, Costa Rica, Niger,\n",
      " Burkina Faso, Uruguay, Albania, Channel Islands, Kyrgyzstan, Honduras,\n",
      " Jordan, Taiwan, Malta, Réunion, San Marino, Djibouti,\n",
      " Guinea, Bolivia, Nigeria, Mauritius, Palestine, Senegal,\n",
      " Georgia, Montenegro, Vietnam, Isle of Man, DRC, Sri Lanka,\n",
      " Mayotte, Kenya, Venezuela, Faeroe Islands, Guatemala, Paraguay,\n",
      " Martinique, El Salvador, Guadeloupe, Mali, Brunei, Rwanda,\n",
      " Gibraltar, Cambodia, Trinidad and Tobago, Madagascar, Monaco, Aruba,\n",
      " French Guiana, Ethiopia, Liechtenstein, Togo, Jamaica, Barbados,\n",
      " Myanmar, Congo, Somalia, Liberia, Bermuda, Gabon,\n",
      " French Polynesia, Cayman Islands, Uganda, Tanzania, Sint Maarten, Bahamas,\n",
      " Guyana, Zambia, Macao, Equatorial Guinea, Haiti, Guinea-Bissau,\n",
      " Benin, Eritrea, Sudan, Saint Martin, Mongolia, Syria,\n",
      " Mozambique, Libya, Antigua and Barbuda, Chad, Maldives, Angola,\n",
      " Laos, Belize, New Caledonia, Zimbabwe, Malawi, Nepal,\n",
      " Dominica, Fiji, Namibia, Saint Lucia, Eswatini, Curaçao,\n",
      " Grenada, Botswana, Saint Kitts and Nevis, St. Vincent Grenadines, CAR, Falkland Islands,\n",
      " Greenland, Montserrat, Seychelles, Sierra Leone, Cabo Verde, Suriname,\n",
      " Turks and Caicos, MS Zaandam, Gambia, Nicaragua, Vatican City, Mauritania,\n",
      " St. Barth, Timor-Leste, Western Sahara, Burundi, Bhutan, Sao Tome and Principe,\n",
      " South Sudan, Anguilla, British Virgin Islands, Caribbean Netherlands, Papua New Guinea, Saint Pierre Miquelon,\n",
      " Yemen, China\n"
     ]
    }
   ],
   "source": [
    "x = stat()['Country'][8:220]\n",
    "import re\n",
    "# print(x)\n",
    "print(', '.join([e+'\\n' if i%6 == 5 else e for i,e in enumerate(x)]).replace('\\n,',',\\n'))\n"
   ]
  },
  {
   "cell_type": "markdown",
   "metadata": {},
   "source": [
    "Для вывода результатов в текстовом формате воспользуемся библиотекой tabulate (в таком формате мы будем отправлять результаты в telegram'е)"
   ]
  },
  {
   "cell_type": "code",
   "execution_count": 139,
   "metadata": {},
   "outputs": [],
   "source": [
    "from tabulate import tabulate"
   ]
  },
  {
   "cell_type": "markdown",
   "metadata": {},
   "source": [
    "Например общее количество случаев заболевания коронавирусом в Великобритании вывести можно так:"
   ]
  },
  {
   "cell_type": "code",
   "execution_count": 140,
   "metadata": {},
   "outputs": [
    {
     "name": "stdout",
     "output_type": "stream",
     "text": [
      "  Country TotalCases\n",
      "0      UK     88,621\n",
      "+----+-----------+--------------+\n",
      "|    | Country   | TotalCases   |\n",
      "+====+===========+==============+\n",
      "|  0 | UK        | 88,621       |\n",
      "+----+-----------+--------------+\n"
     ]
    }
   ],
   "source": [
    "x = df[['Country','TotalCases']][df['Country']=='UK'].reset_index(drop=True)\n",
    "print(tabulate(x, headers = x.columns, tablefmt=\"grid\"))"
   ]
  }
 ],
 "metadata": {
  "kernelspec": {
   "display_name": "Python 2",
   "language": "python",
   "name": "python2"
  },
  "language_info": {
   "codemirror_mode": {
    "name": "ipython",
    "version": 2
   },
   "file_extension": ".py",
   "mimetype": "text/x-python",
   "name": "python",
   "nbconvert_exporter": "python",
   "pygments_lexer": "ipython2",
   "version": "2.7.16"
  }
 },
 "nbformat": 4,
 "nbformat_minor": 2
}
